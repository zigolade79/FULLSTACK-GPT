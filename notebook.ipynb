{
 "cells": [
  {
   "cell_type": "code",
   "execution_count": 5,
   "metadata": {},
   "outputs": [
    {
     "name": "stdout",
     "output_type": "stream",
     "text": [
      "Java, strong and vast,\n",
      "Object-oriented bliss,\n",
      "Code runs everywhere.A haiku is a form of Japanese poetry consisting of three lines with a syllable pattern of 5-7-5. Haikus often focus on nature, seasons, or emotions, and aim to capture a moment or feeling in a concise and evocative way. The brevity of haikus encourages readers to pause and reflect on the imagery and emotions conveyed in just a few words. Traditional haikus also include a kigo, or seasonal reference, which helps to set the scene and create a sense of atmosphere. Overall, haikus are a beautiful and contemplative form of poetry that can evoke a sense of mindfulness and connection to the natural world."
     ]
    },
    {
     "data": {
      "text/plain": [
       "AIMessageChunk(content='A haiku is a form of Japanese poetry consisting of three lines with a syllable pattern of 5-7-5. Haikus often focus on nature, seasons, or emotions, and aim to capture a moment or feeling in a concise and evocative way. The brevity of haikus encourages readers to pause and reflect on the imagery and emotions conveyed in just a few words. Traditional haikus also include a kigo, or seasonal reference, which helps to set the scene and create a sense of atmosphere. Overall, haikus are a beautiful and contemplative form of poetry that can evoke a sense of mindfulness and connection to the natural world.')"
      ]
     },
     "execution_count": 5,
     "metadata": {},
     "output_type": "execute_result"
    }
   ],
   "source": [
    "from langchain.chat_models import ChatOpenAI\n",
    "from langchain.callbacks import StreamingStdOutCallbackHandler\n",
    "from langchain.prompts import PipelinePromptTemplate\n",
    "from langchain.prompts import PromptTemplate, ChatPromptTemplate\n",
    "\n",
    "\n",
    "chat = ChatOpenAI(temperature=0.9,streaming=True,callbacks=[StreamingStdOutCallbackHandler()])\n",
    "\n",
    "poet_prompt = ChatPromptTemplate.from_messages([\n",
    "    (\"system\", \"You are a specialist for writing Haikus about programming languages.\"),\n",
    "    (\"human\",\"Plaese write Haiku about {language}.\")\n",
    "])\n",
    "\n",
    "critic_prompt = ChatPromptTemplate.from_messages([\n",
    "    (\"system\", \"You are specialized in explaining Haikus.\"),\n",
    "    (\"human\",\"Plaese explaining about{poem}.\")\n",
    "])\n",
    "\n",
    "\n",
    "poet_chain = poet_prompt | chat \n",
    "critic_chain = critic_prompt | chat\n",
    "final_chain = {\"poem\": poet_chain} | critic_chain\n",
    "final_chain.invoke({\"language\":\"Java\"})\n"
   ]
  },
  {
   "cell_type": "code",
   "execution_count": null,
   "metadata": {},
   "outputs": [],
   "source": []
  }
 ],
 "metadata": {
  "kernelspec": {
   "display_name": "env",
   "language": "python",
   "name": "python3"
  },
  "language_info": {
   "codemirror_mode": {
    "name": "ipython",
    "version": 3
   },
   "file_extension": ".py",
   "mimetype": "text/x-python",
   "name": "python",
   "nbconvert_exporter": "python",
   "pygments_lexer": "ipython3",
   "version": "3.11.9"
  }
 },
 "nbformat": 4,
 "nbformat_minor": 2
}
