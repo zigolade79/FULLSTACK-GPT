{
 "cells": [
  {
   "cell_type": "code",
   "execution_count": 7,
   "metadata": {},
   "outputs": [
    {
     "name": "stdout",
     "output_type": "stream",
     "text": [
      "        \n",
      "        Director: Ridley Scott\n",
      "        Actors: Matt Damon, Jessica Chastain, Chiwetel Ejiofor\n",
      "        Budget:\t$108 million\n",
      "        Box office:\t$630.2 million\n",
      "        synopsis: In the 2030s, the crew of Ares III, a manned mission to Mars, has established a temporary artificial habitat, called the Hab, on the planet. After a severe dust storm, astronaut Mark Watney is presumed dead and left behind. Watney survives and must find a way to signal to Earth that he is alive. The Hab has been designed to last 31 days, but he knows that it will be at least three years before Ares IV can reach him. He uses his ingenuity to grow food, fix the habitat, and find a way to communicate with NASA."
     ]
    },
    {
     "data": {
      "text/plain": [
       "AIMessageChunk(content='        \\n        Director: Ridley Scott\\n        Actors: Matt Damon, Jessica Chastain, Chiwetel Ejiofor\\n        Budget:\\t$108 million\\n        Box office:\\t$630.2 million\\n        synopsis: In the 2030s, the crew of Ares III, a manned mission to Mars, has established a temporary artificial habitat, called the Hab, on the planet. After a severe dust storm, astronaut Mark Watney is presumed dead and left behind. Watney survives and must find a way to signal to Earth that he is alive. The Hab has been designed to last 31 days, but he knows that it will be at least three years before Ares IV can reach him. He uses his ingenuity to grow food, fix the habitat, and find a way to communicate with NASA.')"
      ]
     },
     "execution_count": 7,
     "metadata": {},
     "output_type": "execute_result"
    }
   ],
   "source": [
    "from langchain.chat_models import ChatOpenAI\n",
    "from langchain.callbacks import StreamingStdOutCallbackHandler\n",
    "from langchain.prompts.few_shot import FewShotPromptTemplate, FewShotChatMessagePromptTemplate\n",
    "from langchain.prompts import PipelinePromptTemplate\n",
    "from langchain.prompts import PromptTemplate, ChatPromptTemplate\n",
    "\n",
    "\n",
    "chat = ChatOpenAI(temperature=0.1,streaming=True,callbacks=[StreamingStdOutCallbackHandler()])\n",
    "\n",
    "examples = [\n",
    "    {\n",
    "        \"movie\": \"The Mission\",\n",
    "        \"answer\":\"\"\"         \n",
    "        Director: Roland Joffé\n",
    "        Actors: Robert De Niro, Jeremy Irons\n",
    "        Budget:\t£16.5 million\n",
    "        Box office:\t$17.2 million\n",
    "        synopsis: In the 1750s, Jesuit priest Father Gabriel enters the eastern Paraguayan jungle to convert the Guaraní to Christianity. He sends another priest to make contact with them, but the man is thrown to his death off Iguazu Falls. Father Gabriel travels to the falls himself and plays his oboe. One of the Guaraní grabs the oboe from his hands and breaks it in half. Father Gabriel does not react, and the remaining Guaraní, captivated by the music, take him to their village.\n",
    "        \"\"\",\n",
    "    },\n",
    "    {\n",
    "        \"movie\": \"Interstellar\",\n",
    "        \"answer\":\"\"\"         \n",
    "        Director: Christopher Nolan\n",
    "        Actors: Matthew McConaughey, Anne Hathaway, Jessica Chastain\n",
    "        Budget:\t$165 million\n",
    "        Box office:\t$740.7 million\n",
    "        synopsis: In the mid-21st century, humanity faces extinction due to dust storms and widespread crop blights. Joseph Cooper, a widowed former NASA test pilot, works as a farmer and raises his children, Murph and Tom, alongside his father-in-law Donald. Living in a post-truth society, Cooper is reprimanded by Murph's teachers for telling her that the Apollo missions were not fabricated. During a dust storm, the two discover that dust patterns in Murph's room, which she first attributes to a ghost, result from a gravitational anomaly, and translate into geographic coordinates. These lead them to a secret NASA facility headed by Professor John Brand, who explains that, 48 years earlier, a wormhole appeared near Saturn, leading to a system in another galaxy with twelve potentially habitable planets located near a black hole named Gargantua. Volunteers of the Lazarus expedition had previously travelled through the wormhole to evaluate the planets, with Miller, Edmunds, and Mann reporting back desirable results.\n",
    "        \"\"\",\n",
    "    },\n",
    "    {\n",
    "        \"movie\": \"Tenet\",\n",
    "        \"answer\":\"\"\"        \n",
    "        Director: Christopher Nolan\n",
    "        Actors: John David Washington, Robert Pattinson, Elizabeth Debicki\n",
    "        Budget:\t$205 million\n",
    "        Box office:\t$365.9 million\n",
    "        synopsis: On \"the 14th\", the Protagonist leads a covert CIA extraction during a staged terrorist siege at an Opera House in Kyiv. He is saved from KORD forces by a masked operative wearing a red trinket. The Protagonist retrieves an artifact but his team is captured and tortured. He swallows a suicide pill but wakes up to find it was a fake—a test that only he passed. He is recruited by \"Tenet\", a secretive organization that briefs him on objects with \"inverted\" entropy that move backward through time. With his handler Neil, he traces inverted munitions to Priya Singh, an arms dealer in Mumbai.\n",
    "        \"\"\",\n",
    "    },\n",
    "]\n",
    "\n",
    "exaple_prompt = ChatPromptTemplate.from_messages([\n",
    "    (\"human\", \"please give me information about movie {movie}.\"),\n",
    "    (\"ai\", \"{answer}\")\n",
    "])\n",
    "\n",
    "prompt = FewShotChatMessagePromptTemplate(\n",
    "    example_prompt=exaple_prompt,\n",
    "    examples=examples\n",
    ")\n",
    "\n",
    "final_prompt = ChatPromptTemplate.from_messages(\n",
    "    [\n",
    "        (\"system\", \"You are a cinema enthusiast.\"),\n",
    "        prompt,\n",
    "        (\"human\", \"please give me information about movie {movie}.\"),\n",
    "    ]\n",
    ")\n",
    "\n",
    "chain = final_prompt | chat\n",
    "\n",
    "chain.invoke({\"movie\":\"The Martian\"})"
   ]
  }
 ],
 "metadata": {
  "kernelspec": {
   "display_name": "env",
   "language": "python",
   "name": "python3"
  },
  "language_info": {
   "codemirror_mode": {
    "name": "ipython",
    "version": 3
   },
   "file_extension": ".py",
   "mimetype": "text/x-python",
   "name": "python",
   "nbconvert_exporter": "python",
   "pygments_lexer": "ipython3",
   "version": "3.11.9"
  }
 },
 "nbformat": 4,
 "nbformat_minor": 2
}
