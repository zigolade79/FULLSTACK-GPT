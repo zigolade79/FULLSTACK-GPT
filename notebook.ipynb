{
 "cells": [
  {
   "cell_type": "code",
   "execution_count": 1,
   "metadata": {},
   "outputs": [
    {
     "name": "stdout",
     "output_type": "stream",
     "text": [
      "🚀🌌🥔"
     ]
    },
    {
     "data": {
      "text/plain": [
       "{'movie': 'The Martian',\n",
       " 'chat_history': [HumanMessage(content='The Martian'),\n",
       "  AIMessage(content='🚀🌌🥔')],\n",
       " 'text': '🚀🌌🥔'}"
      ]
     },
     "execution_count": 1,
     "metadata": {},
     "output_type": "execute_result"
    }
   ],
   "source": [
    "from langchain.chat_models import ChatOpenAI\n",
    "from langchain.callbacks import StreamingStdOutCallbackHandler\n",
    "from langchain.prompts.few_shot import FewShotPromptTemplate, FewShotChatMessagePromptTemplate\n",
    "from langchain.prompts import PromptTemplate, ChatPromptTemplate, MessagesPlaceholder\n",
    "from langchain.memory import ConversationBufferMemory\n",
    "from langchain.chains import LLMChain\n",
    "\n",
    "\n",
    "chat = ChatOpenAI(temperature=0.1,streaming=True,callbacks=[StreamingStdOutCallbackHandler()])\n",
    "\n",
    "examples = [\n",
    "    {\n",
    "        \"movie\": \"Top Gun\",\n",
    "        \"answer\": \"🛩️👨‍✈️🔥\",\n",
    "    },\n",
    "    {\n",
    "        \"movie\": \"The Godfather\",\n",
    "        \"answer\": \"👨‍👨‍👦🔫🍝\",\n",
    "    },\n",
    "    {\n",
    "        \"movie\": \"Don't look up\",\n",
    "        \"answer\":\"🚫👀⬆️\",\n",
    "    },\n",
    "]\n",
    "memory = ConversationBufferMemory(\n",
    "    memory_key=\"chat_history\",\n",
    "    return_messages=True\n",
    ")\n",
    "\n",
    "\n",
    "exaple_prompt = ChatPromptTemplate.from_messages([\n",
    "    \n",
    "    (\"human\", \"Please reply with three emojis that represent the movie {movie}.\"),    \n",
    "    (\"ai\", \"{answer}\")\n",
    "])\n",
    "\n",
    "prompt = FewShotChatMessagePromptTemplate(\n",
    "    example_prompt=exaple_prompt,\n",
    "    examples=examples\n",
    ")\n",
    "\n",
    "final_prompt = ChatPromptTemplate.from_messages(\n",
    "    [\n",
    "        (\"system\", \"You are a cinema enthusiast.\"),\n",
    "        prompt,\n",
    "        MessagesPlaceholder(variable_name=\"chat_history\"),\n",
    "        (\"human\", \"Please reply with three emojis that represent the movie {movie}.\"),\n",
    "    ]\n",
    ")\n",
    "chain = LLMChain(\n",
    "    llm=chat,\n",
    "    memory=memory,\n",
    "    prompt=final_prompt\n",
    ")\n",
    "\n",
    "chain.invoke({\"movie\":\"The Martian\"})"
   ]
  },
  {
   "cell_type": "code",
   "execution_count": 2,
   "metadata": {},
   "outputs": [
    {
     "name": "stdout",
     "output_type": "stream",
     "text": [
      "🧠🌀🌌"
     ]
    },
    {
     "data": {
      "text/plain": [
       "{'movie': 'inception',\n",
       " 'chat_history': [HumanMessage(content='The Martian'),\n",
       "  AIMessage(content='🚀🌌🥔'),\n",
       "  HumanMessage(content='inception'),\n",
       "  AIMessage(content='🧠🌀🌌')],\n",
       " 'text': '🧠🌀🌌'}"
      ]
     },
     "execution_count": 2,
     "metadata": {},
     "output_type": "execute_result"
    }
   ],
   "source": [
    "chain.invoke({\"movie\":\"inception\"})"
   ]
  },
  {
   "cell_type": "code",
   "execution_count": 3,
   "metadata": {},
   "outputs": [
    {
     "data": {
      "text/plain": [
       "{'chat_history': [HumanMessage(content='The Martian'),\n",
       "  AIMessage(content='🚀🌌🥔'),\n",
       "  HumanMessage(content='inception'),\n",
       "  AIMessage(content='🧠🌀🌌')]}"
      ]
     },
     "execution_count": 3,
     "metadata": {},
     "output_type": "execute_result"
    }
   ],
   "source": [
    "memory.load_memory_variables({})"
   ]
  },
  {
   "cell_type": "code",
   "execution_count": 10,
   "metadata": {},
   "outputs": [
    {
     "name": "stdout",
     "output_type": "stream",
     "text": [
      "The movie you asked about first is \"The Martian.\""
     ]
    },
    {
     "data": {
      "text/plain": [
       "'The movie you asked about first is \"The Martian.\"'"
      ]
     },
     "execution_count": 10,
     "metadata": {},
     "output_type": "execute_result"
    }
   ],
   "source": [
    "prompt = ChatPromptTemplate.from_messages([\n",
    "    MessagesPlaceholder(variable_name=\"chat_history\"),\n",
    "    (\"human\", \"{question}\")\n",
    "])\n",
    "chain = LLMChain(\n",
    "    llm=chat,\n",
    "    memory=memory,\n",
    "    prompt=prompt\n",
    ")\n",
    "chain.predict(question=\"what is the movie I asked first?\")"
   ]
  }
 ],
 "metadata": {
  "kernelspec": {
   "display_name": "env",
   "language": "python",
   "name": "python3"
  },
  "language_info": {
   "codemirror_mode": {
    "name": "ipython",
    "version": 3
   },
   "file_extension": ".py",
   "mimetype": "text/x-python",
   "name": "python",
   "nbconvert_exporter": "python",
   "pygments_lexer": "ipython3",
   "version": "3.11.9"
  }
 },
 "nbformat": 4,
 "nbformat_minor": 2
}
